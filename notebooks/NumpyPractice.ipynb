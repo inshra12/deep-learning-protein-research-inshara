{
  "nbformat": 4,
  "nbformat_minor": 0,
  "metadata": {
    "colab": {
      "provenance": [],
      "toc_visible": true,
      "authorship_tag": "ABX9TyMPzyg96u8QAQj83gE03o1D",
      "include_colab_link": true
    },
    "kernelspec": {
      "name": "python3",
      "display_name": "Python 3"
    },
    "language_info": {
      "name": "python"
    }
  },
  "cells": [
    {
      "cell_type": "markdown",
      "metadata": {
        "id": "view-in-github",
        "colab_type": "text"
      },
      "source": [
        "<a href=\"https://colab.research.google.com/github/inshra12/deep-learning-protein-research-inshara/blob/main/notebooks/NumpyPractice.ipynb\" target=\"_parent\"><img src=\"https://colab.research.google.com/assets/colab-badge.svg\" alt=\"Open In Colab\"/></a>"
      ]
    },
    {
      "cell_type": "markdown",
      "source": [
        "# NumPy – Feature Vectors"
      ],
      "metadata": {
        "id": "ShqihSyr4QX5"
      }
    },
    {
      "cell_type": "code",
      "execution_count": 1,
      "metadata": {
        "id": "_hVsdi7Vy1h4"
      },
      "outputs": [],
      "source": [
        "import numpy as np"
      ]
    },
    {
      "cell_type": "code",
      "source": [
        "features = np.array([0.21, 0.47, 0.33, 0.65, 0.88])"
      ],
      "metadata": {
        "id": "t6ypvRJE4eWj"
      },
      "execution_count": 2,
      "outputs": []
    },
    {
      "cell_type": "code",
      "source": [
        "#shape is the size of array\n",
        "print(\"Features\",features)\n",
        "print(\"Size of Feature\" , features.shape)"
      ],
      "metadata": {
        "id": "r3TB6xA541rP",
        "outputId": "b8dc1261-3bcf-4019-d801-5654fa253ed5",
        "colab": {
          "base_uri": "https://localhost:8080/"
        }
      },
      "execution_count": 3,
      "outputs": [
        {
          "output_type": "stream",
          "name": "stdout",
          "text": [
            "Features [0.21 0.47 0.33 0.65 0.88]\n",
            "Size of Feature (5,)\n"
          ]
        }
      ]
    },
    {
      "cell_type": "markdown",
      "source": [
        "##Normaliztion"
      ],
      "metadata": {
        "id": "9Z1LzaXd5bV-"
      }
    },
    {
      "cell_type": "code",
      "source": [
        "#This line scales all values between 0 and 1, which helps the model learn better.\n",
        "normalized = (features - features.min()/features.max()-features.min())\n"
      ],
      "metadata": {
        "id": "Txi4tD2C5MyQ"
      },
      "execution_count": 5,
      "outputs": []
    },
    {
      "cell_type": "code",
      "source": [
        "# reshape(-1, 1) changes the vector shape from (5,) to (5, 1) — a column vector.\n",
        "# Deep learning models (like TensorFlow) expect 2D arrays: [samples, features].\n",
        "reshaped = features.reshape(-1, 1)"
      ],
      "metadata": {
        "id": "TeCn8JCe6MJR"
      },
      "execution_count": 7,
      "outputs": []
    },
    {
      "cell_type": "code",
      "source": [
        "print(features)"
      ],
      "metadata": {
        "id": "akt7fRjg6NMm",
        "outputId": "723c77bb-3f1b-48f8-9af5-b968dd323b15",
        "colab": {
          "base_uri": "https://localhost:8080/"
        }
      },
      "execution_count": 8,
      "outputs": [
        {
          "output_type": "stream",
          "name": "stdout",
          "text": [
            "[0.21 0.47 0.33 0.65 0.88]\n"
          ]
        }
      ]
    },
    {
      "cell_type": "code",
      "source": [
        "print(reshaped)"
      ],
      "metadata": {
        "id": "ZTrdPK5m6Yjx",
        "outputId": "713c11d7-d9c7-4a29-880a-4970a0c8758e",
        "colab": {
          "base_uri": "https://localhost:8080/"
        }
      },
      "execution_count": 9,
      "outputs": [
        {
          "output_type": "stream",
          "name": "stdout",
          "text": [
            "[[0.21]\n",
            " [0.47]\n",
            " [0.33]\n",
            " [0.65]\n",
            " [0.88]]\n"
          ]
        }
      ]
    },
    {
      "cell_type": "code",
      "source": [],
      "metadata": {
        "id": "4SIERYpx6boK"
      },
      "execution_count": null,
      "outputs": []
    }
  ]
}