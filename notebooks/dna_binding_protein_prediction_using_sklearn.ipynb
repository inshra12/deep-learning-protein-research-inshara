{
  "nbformat": 4,
  "nbformat_minor": 0,
  "metadata": {
    "colab": {
      "provenance": [],
      "toc_visible": true,
      "authorship_tag": "ABX9TyOcYBmdqDhf/iWfwUyhFBBa",
      "include_colab_link": true
    },
    "kernelspec": {
      "name": "python3",
      "display_name": "Python 3"
    },
    "language_info": {
      "name": "python"
    }
  },
  "cells": [
    {
      "cell_type": "markdown",
      "metadata": {
        "id": "view-in-github",
        "colab_type": "text"
      },
      "source": [
        "<a href=\"https://colab.research.google.com/github/inshra12/deep-learning-protein-research-inshara/blob/main/notebooks/dna_binding_protein_prediction_using_sklearn.ipynb\" target=\"_parent\"><img src=\"https://colab.research.google.com/assets/colab-badge.svg\" alt=\"Open In Colab\"/></a>"
      ]
    },
    {
      "cell_type": "markdown",
      "source": [
        "# Feature Extraction Techniques"
      ],
      "metadata": {
        "id": "XvUHFJTnK8pQ"
      }
    },
    {
      "cell_type": "code",
      "execution_count": 30,
      "metadata": {
        "id": "gHc3bh8NnKqO",
        "outputId": "ed5adf21-f64b-4498-bf3d-210e80603f3d",
        "colab": {
          "base_uri": "https://localhost:8080/"
        }
      },
      "outputs": [
        {
          "output_type": "stream",
          "name": "stdout",
          "text": [
            "Requirement already satisfied: biopython in /usr/local/lib/python3.11/dist-packages (1.85)\n",
            "Requirement already satisfied: numpy in /usr/local/lib/python3.11/dist-packages (from biopython) (2.0.2)\n"
          ]
        }
      ],
      "source": [
        "pip install biopython\n"
      ]
    },
    {
      "cell_type": "markdown",
      "source": [
        "## Import Libraries"
      ],
      "metadata": {
        "id": "Jd9NFsDJLDVd"
      }
    },
    {
      "cell_type": "code",
      "source": [
        "import pandas as pd\n",
        "import numpy as np\n",
        "from Bio import SeqIO\n",
        "from sklearn.model_selection import train_test_split\n",
        "from sklearn.metrics import accuracy_score, confusion_matrix, classification_report\n",
        "\n",
        "\n",
        "from sklearn.linear_model import LogisticRegression\n",
        "from sklearn.ensemble import RandomForestClassifier\n",
        "from sklearn.tree import DecisionTreeClassifier\n",
        "from sklearn.naive_bayes import GaussianNB\n",
        "from sklearn.svm import SVC\n",
        "from sklearn.neighbors import KNeighborsClassifier\n"
      ],
      "metadata": {
        "id": "QKrYCMxEHUVq"
      },
      "execution_count": 31,
      "outputs": []
    },
    {
      "cell_type": "markdown",
      "source": [
        "## Load Fasta Files"
      ],
      "metadata": {
        "id": "LxmSXRL8LH8r"
      }
    },
    {
      "cell_type": "code",
      "source": [
        "# Load sequences from a FASTA file\n",
        "def load_fasta_sequences(filepath, label):\n",
        "    records = []\n",
        "    for record in SeqIO.parse(filepath, \"fasta\"):\n",
        "        seq = str(record.seq)\n",
        "        records.append({\n",
        "            \"id\": record.id,\n",
        "            \"sequence\": seq,\n",
        "            \"label\": label\n",
        "        })\n",
        "    return records\n",
        "\n",
        "# Load both positive and negative classes\n",
        "positive_records = load_fasta_sequences(\"/content/positive_160.fasta\", label=1)\n",
        "negative_records = load_fasta_sequences(\"/content/negetive_160.fasta\", label=0)\n",
        "\n",
        "# Combine both lists\n",
        "all_records = positive_records + negative_records\n",
        "\n",
        "# Convert to a DataFrame\n",
        "df = pd.DataFrame(all_records)\n",
        "\n",
        "# Preview\n",
        "print(df)\n",
        "\n",
        "# Save to CSV (optional)\n",
        "df.to_csv(\"/content/protein_sequences.csv\", index=False)\n",
        "print(df)\n"
      ],
      "metadata": {
        "collapsed": true,
        "id": "gPk8gvakGrXy",
        "outputId": "20b626c0-a50d-4d81-c2b6-d4dd54bb25eb",
        "colab": {
          "base_uri": "https://localhost:8080/"
        }
      },
      "execution_count": 32,
      "outputs": [
        {
          "output_type": "stream",
          "name": "stdout",
          "text": [
            "                            id  \\\n",
            "0    sp|A0A0C5B5G6|MOTSC_HUMAN   \n",
            "1        sp|A6NI15|MSGN1_HUMAN   \n",
            "2        sp|A8MT69|CENPX_HUMAN   \n",
            "3        sp|A8MZ59|LEUTX_HUMAN   \n",
            "4        sp|O00488|ZN593_HUMAN   \n",
            "..                         ...   \n",
            "315      sp|Q9UKS7|IKZF2_HUMAN   \n",
            "316      sp|Q9ULC4|MCTS1_HUMAN   \n",
            "317        sp|Q9ULZ3|ASC_HUMAN   \n",
            "318      sp|Q9UPN6|SCAF8_HUMAN   \n",
            "319       sp|Q9Y3C8|UFC1_HUMAN   \n",
            "\n",
            "                                              sequence  label  \n",
            "0                                     MRWQEMGYIFYPRKLR      1  \n",
            "1    MDNLRETFLSLEDGLGSSDSPGLLSSWDWKDRAGPFELNQASPSQS...      1  \n",
            "2    MEGAGAGSGFRKELVSRLLHLHFKDDKTKVSGDALQLMVELLKVFV...      1  \n",
            "3    MFEGPRRYRRPRTRFLSKQLTALRELLEKTMHPSLATMGKLASKLQ...      1  \n",
            "4    MGRSRRTGAHRAHSLARQMKAKRRRPDLDEIHRELRPQGSARPQPD...      1  \n",
            "..                                                 ...    ...  \n",
            "315  METEAIDGYITCDNELSPEREHSNMAIDLTSSTPNGQHASPSHMTS...      0  \n",
            "316  MFKKFDEKENVSNCIQLKTSVIKGIKNQLIEQFPGIEPWLNQIMPK...      0  \n",
            "317  MGRARDAILDALENLTAEELKKFKLKLLSVPLREGYGRIPRGALLS...      0  \n",
            "318  MEAVKTFNSELYSLNDYKPPISKAKMTQITKAAIKAIKFYKHVVQS...      0  \n",
            "319  MADEATRRVVSEIPVLKTNAGPRDRELWVQRLKEEYQSLIRYVENN...      0  \n",
            "\n",
            "[320 rows x 3 columns]\n",
            "                            id  \\\n",
            "0    sp|A0A0C5B5G6|MOTSC_HUMAN   \n",
            "1        sp|A6NI15|MSGN1_HUMAN   \n",
            "2        sp|A8MT69|CENPX_HUMAN   \n",
            "3        sp|A8MZ59|LEUTX_HUMAN   \n",
            "4        sp|O00488|ZN593_HUMAN   \n",
            "..                         ...   \n",
            "315      sp|Q9UKS7|IKZF2_HUMAN   \n",
            "316      sp|Q9ULC4|MCTS1_HUMAN   \n",
            "317        sp|Q9ULZ3|ASC_HUMAN   \n",
            "318      sp|Q9UPN6|SCAF8_HUMAN   \n",
            "319       sp|Q9Y3C8|UFC1_HUMAN   \n",
            "\n",
            "                                              sequence  label  \n",
            "0                                     MRWQEMGYIFYPRKLR      1  \n",
            "1    MDNLRETFLSLEDGLGSSDSPGLLSSWDWKDRAGPFELNQASPSQS...      1  \n",
            "2    MEGAGAGSGFRKELVSRLLHLHFKDDKTKVSGDALQLMVELLKVFV...      1  \n",
            "3    MFEGPRRYRRPRTRFLSKQLTALRELLEKTMHPSLATMGKLASKLQ...      1  \n",
            "4    MGRSRRTGAHRAHSLARQMKAKRRRPDLDEIHRELRPQGSARPQPD...      1  \n",
            "..                                                 ...    ...  \n",
            "315  METEAIDGYITCDNELSPEREHSNMAIDLTSSTPNGQHASPSHMTS...      0  \n",
            "316  MFKKFDEKENVSNCIQLKTSVIKGIKNQLIEQFPGIEPWLNQIMPK...      0  \n",
            "317  MGRARDAILDALENLTAEELKKFKLKLLSVPLREGYGRIPRGALLS...      0  \n",
            "318  MEAVKTFNSELYSLNDYKPPISKAKMTQITKAAIKAIKFYKHVVQS...      0  \n",
            "319  MADEATRRVVSEIPVLKTNAGPRDRELWVQRLKEEYQSLIRYVENN...      0  \n",
            "\n",
            "[320 rows x 3 columns]\n"
          ]
        }
      ]
    },
    {
      "cell_type": "markdown",
      "source": [
        "## AAC = Amino Acid Composition"
      ],
      "metadata": {
        "id": "ATbB-DjYLVim"
      }
    },
    {
      "cell_type": "code",
      "source": [
        "# AAC = Amino Acid Composition\n",
        "def compute_aac(sequence):\n",
        "    amino_acids = 'ACDEFGHIKLMNPQRSTVWY'\n",
        "    seq_len = len(sequence)\n",
        "    if seq_len == 0:\n",
        "        return [0] * len(amino_acids)  # if empty, return zeros\n",
        "    features = []\n",
        "    for aa in amino_acids:\n",
        "        features.append(sequence.count(aa) / seq_len)  # frequency\n",
        "    return features\n",
        "\n",
        "# Apply AAC to each sequence\n",
        "X = df['sequence'].apply(compute_aac)\n",
        "X = np.array(X.tolist())\n",
        "y = df['label'].values"
      ],
      "metadata": {
        "id": "45N99Cv8HK7Z"
      },
      "execution_count": 33,
      "outputs": []
    },
    {
      "cell_type": "markdown",
      "source": [
        "### Split Model"
      ],
      "metadata": {
        "id": "ndps3J8_LzvF"
      }
    },
    {
      "cell_type": "code",
      "source": [
        "X_train, X_test, y_train, y_test = train_test_split(X, y, test_size=0.3, random_state=42)"
      ],
      "metadata": {
        "id": "9zkA00WSH1uh"
      },
      "execution_count": 34,
      "outputs": []
    },
    {
      "cell_type": "code",
      "source": [
        "models = {\n",
        "    \"Logistic Regression\": LogisticRegression(max_iter=1000),\n",
        "    \"Random Forest\": RandomForestClassifier(),\n",
        "    \"Decision Tree\": DecisionTreeClassifier(),\n",
        "    \"Naive Bayes\": GaussianNB(),\n",
        "    \"Support Vector Machine\": SVC(),\n",
        "    \"K-Nearest Neighbors\": KNeighborsClassifier()\n",
        "}\n"
      ],
      "metadata": {
        "id": "ynGyFDeaIuhf"
      },
      "execution_count": 35,
      "outputs": []
    },
    {
      "cell_type": "markdown",
      "source": [
        "### Train And Evaluate Model"
      ],
      "metadata": {
        "id": "9gsnhkpDL3fi"
      }
    },
    {
      "cell_type": "code",
      "source": [
        "# Loop through each model and print its accuracy\n",
        "for name, model in models.items():\n",
        "    model.fit(X_train, y_train)                      # train the model\n",
        "    y_pred = model.predict(X_test)                   # test the model\n",
        "    accuracy = accuracy_score(y_test, y_pred)        # get accuracy\n",
        "    print(f\"{name} Accuracy: {accuracy:.2f}\")\n",
        "   # print(\"\\nConfusion Matrix:\\n\", confusion_matrix(y_test, y_pred))\n",
        "    #print(\"\\nClassification Report:\\n\", classification_report(y_test, y_pred))"
      ],
      "metadata": {
        "id": "pNaFGDCXIxGv",
        "outputId": "05d012f0-6c93-470b-e8d4-790fd6ad212d",
        "colab": {
          "base_uri": "https://localhost:8080/"
        }
      },
      "execution_count": 36,
      "outputs": [
        {
          "output_type": "stream",
          "name": "stdout",
          "text": [
            "Logistic Regression Accuracy: 0.65\n",
            "Random Forest Accuracy: 0.64\n",
            "Decision Tree Accuracy: 0.60\n",
            "Naive Bayes Accuracy: 0.66\n",
            "Support Vector Machine Accuracy: 0.64\n",
            "K-Nearest Neighbors Accuracy: 0.68\n"
          ]
        }
      ]
    },
    {
      "cell_type": "markdown",
      "source": [
        "## Dpc = Dipeptide Composition"
      ],
      "metadata": {
        "id": "xdvZh3OtLbGO"
      }
    },
    {
      "cell_type": "code",
      "source": [
        "# Dpc =  Dipeptide Composition\n",
        "from itertools import product\n",
        "\n",
        "def compute_dpc(sequence):\n",
        "    amino_acids = 'ACDEFGHIKLMNPQRSTVWY'\n",
        "    dipeptides = [''.join(p) for p in product(amino_acids, repeat=2)]\n",
        "\n",
        "    seq_len = len(sequence)\n",
        "    total_dipeptides = seq_len - 1\n",
        "    dpc_dict = dict.fromkeys(dipeptides, 0)\n",
        "\n",
        "    for i in range(total_dipeptides):\n",
        "        dipep = sequence[i:i+2]\n",
        "        if dipep in dpc_dict:\n",
        "            dpc_dict[dipep] += 1\n",
        "\n",
        "    features = []\n",
        "    for dp in dipeptides:\n",
        "        if total_dipeptides > 0:\n",
        "            freq = dpc_dict[dp] / total_dipeptides\n",
        "        else:\n",
        "            freq = 0\n",
        "        features.append(freq)\n",
        "    return features\n",
        "\n",
        "  # Apply Dpc to each sequence\n",
        "X = df['sequence'].apply(compute_dpc)\n",
        "X = np.array(X.tolist())\n",
        "y = df['label'].values\n"
      ],
      "metadata": {
        "id": "JQ2r-SV2IzPd"
      },
      "execution_count": 37,
      "outputs": []
    },
    {
      "cell_type": "markdown",
      "source": [
        "### Split Model"
      ],
      "metadata": {
        "id": "LMKrBFVtNPNq"
      }
    },
    {
      "cell_type": "code",
      "source": [
        "X_train, X_test, y_train, y_test = train_test_split(X, y, test_size=0.3, random_state=42)"
      ],
      "metadata": {
        "id": "hxrFEaMAMfEF"
      },
      "execution_count": 38,
      "outputs": []
    },
    {
      "cell_type": "code",
      "source": [
        "models = {\n",
        "    \"Logistic Regression\": LogisticRegression(max_iter=1000),\n",
        "    \"Random Forest\": RandomForestClassifier(),\n",
        "    \"Decision Tree\": DecisionTreeClassifier(),\n",
        "    \"Naive Bayes\": GaussianNB(),\n",
        "    \"Support Vector Machine\": SVC(),\n",
        "    \"K-Nearest Neighbors\": KNeighborsClassifier()\n",
        "}\n"
      ],
      "metadata": {
        "id": "5BFShU2eNHnn"
      },
      "execution_count": 39,
      "outputs": []
    },
    {
      "cell_type": "markdown",
      "source": [
        "### Train and evaluate Models"
      ],
      "metadata": {
        "id": "RjXjKUFINTlP"
      }
    },
    {
      "cell_type": "code",
      "source": [
        "# Loop through each model and print its accuracy\n",
        "for name, model in models.items():\n",
        "    model.fit(X_train, y_train)                      # train the model\n",
        "    y_pred = model.predict(X_test)                   # test the model\n",
        "    accuracy = accuracy_score(y_test, y_pred)        # get accuracy\n",
        "    print(f\"{name} Accuracy: {accuracy:.2f}\")\n",
        "   # print(\"\\nConfusion Matrix:\\n\", confusion_matrix(y_test, y_pred))\n",
        "    #print(\"\\nClassification Report:\\n\", classification_report(y_test, y_pred))"
      ],
      "metadata": {
        "id": "HEsaEmdSNKa5",
        "outputId": "9bacb785-dfa3-4fba-9dea-193c71de66bc",
        "colab": {
          "base_uri": "https://localhost:8080/"
        }
      },
      "execution_count": 40,
      "outputs": [
        {
          "output_type": "stream",
          "name": "stdout",
          "text": [
            "Logistic Regression Accuracy: 0.57\n",
            "Random Forest Accuracy: 0.71\n",
            "Decision Tree Accuracy: 0.56\n",
            "Naive Bayes Accuracy: 0.72\n",
            "Support Vector Machine Accuracy: 0.68\n",
            "K-Nearest Neighbors Accuracy: 0.59\n"
          ]
        }
      ]
    },
    {
      "cell_type": "code",
      "source": [],
      "metadata": {
        "id": "gTq-mUNPNMUE"
      },
      "execution_count": 40,
      "outputs": []
    }
  ]
}